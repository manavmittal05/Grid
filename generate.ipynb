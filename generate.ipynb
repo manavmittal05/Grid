{
 "cells": [
  {
   "cell_type": "code",
   "execution_count": 20,
   "metadata": {},
   "outputs": [
    {
     "ename": "ModuleNotFoundError",
     "evalue": "No module named 'torch'",
     "output_type": "error",
     "traceback": [
      "\u001b[0;31m---------------------------------------------------------------------------\u001b[0m",
      "\u001b[0;31mModuleNotFoundError\u001b[0m                       Traceback (most recent call last)",
      "Cell \u001b[0;32mIn[20], line 1\u001b[0m\n\u001b[0;32m----> 1\u001b[0m \u001b[39mimport\u001b[39;00m \u001b[39mtorch\u001b[39;00m\n\u001b[1;32m      2\u001b[0m \u001b[39mimport\u001b[39;00m \u001b[39mgradio\u001b[39;00m \u001b[39mas\u001b[39;00m \u001b[39mgr\u001b[39;00m\n",
      "\u001b[0;31mModuleNotFoundError\u001b[0m: No module named 'torch'"
     ]
    }
   ],
   "source": [
    "import torch\n",
    "import gradio as gr"
   ]
  },
  {
   "cell_type": "code",
   "execution_count": null,
   "metadata": {},
   "outputs": [
    {
     "ename": "NameError",
     "evalue": "name 'gr' is not defined",
     "output_type": "error",
     "traceback": [
      "\u001b[0;31m---------------------------------------------------------------------------\u001b[0m",
      "\u001b[0;31mNameError\u001b[0m                                 Traceback (most recent call last)",
      "Cell \u001b[0;32mIn[1], line 8\u001b[0m\n\u001b[1;32m      5\u001b[0m     save_image(punks, \u001b[39m\"\u001b[39m\u001b[39mpunks.png\u001b[39m\u001b[39m\"\u001b[39m, normalize\u001b[39m=\u001b[39m\u001b[39mTrue\u001b[39;00m)\n\u001b[1;32m      6\u001b[0m     \u001b[39mreturn\u001b[39;00m \u001b[39m'\u001b[39m\u001b[39mpunks.png\u001b[39m\u001b[39m'\u001b[39m\n\u001b[0;32m----> 8\u001b[0m gr\u001b[39m.\u001b[39mInterface(\n\u001b[1;32m      9\u001b[0m     predict,\n\u001b[1;32m     10\u001b[0m     inputs\u001b[39m=\u001b[39m[\n\u001b[1;32m     11\u001b[0m         gr\u001b[39m.\u001b[39mSlider(\u001b[39m0\u001b[39m, \u001b[39m1000\u001b[39m, label\u001b[39m=\u001b[39m\u001b[39m'\u001b[39m\u001b[39mSeed\u001b[39m\u001b[39m'\u001b[39m, default\u001b[39m=\u001b[39m\u001b[39m42\u001b[39m),\n\u001b[1;32m     12\u001b[0m         gr\u001b[39m.\u001b[39mSlider(\u001b[39m4\u001b[39m, \u001b[39m64\u001b[39m, label\u001b[39m=\u001b[39m\u001b[39m'\u001b[39m\u001b[39mNumber of Punks\u001b[39m\u001b[39m'\u001b[39m, step\u001b[39m=\u001b[39m\u001b[39m1\u001b[39m, default\u001b[39m=\u001b[39m\u001b[39m10\u001b[39m),\n\u001b[1;32m     13\u001b[0m     ],\n\u001b[1;32m     14\u001b[0m     outputs\u001b[39m=\u001b[39m\u001b[39m\"\u001b[39m\u001b[39mimage\u001b[39m\u001b[39m\"\u001b[39m,\n\u001b[1;32m     15\u001b[0m     examples\u001b[39m=\u001b[39m[[\u001b[39m123\u001b[39m, \u001b[39m15\u001b[39m], [\u001b[39m42\u001b[39m, \u001b[39m29\u001b[39m], [\u001b[39m456\u001b[39m, \u001b[39m8\u001b[39m], [\u001b[39m1337\u001b[39m, \u001b[39m35\u001b[39m]],\n\u001b[1;32m     16\u001b[0m )\u001b[39m.\u001b[39mlaunch(cache_examples\u001b[39m=\u001b[39m\u001b[39mTrue\u001b[39;00m)\n",
      "\u001b[0;31mNameError\u001b[0m: name 'gr' is not defined"
     ]
    }
   ],
   "source": [
    "def predict(seed, num_punks):\n",
    "    torch.manual_seed(seed)\n",
    "    z = torch.randn(num_punks, 100, 1, 1)\n",
    "    punks = model(z)\n",
    "    save_image(punks, \"punks.png\", normalize=True)\n",
    "    return 'punks.png'\n",
    "\n",
    "gr.Interface(\n",
    "    predict,\n",
    "    inputs=[\n",
    "        gr.Slider(0, 1000, label='Seed', default=42),\n",
    "        gr.Slider(4, 64, label='Number of Punks', step=1, default=10),\n",
    "    ],\n",
    "    outputs=\"image\",\n",
    "    examples=[[123, 15], [42, 29], [456, 8], [1337, 35]],\n",
    ").launch(cache_examples=True)"
   ]
  }
 ],
 "metadata": {
  "kernelspec": {
   "display_name": "Python 3",
   "language": "python",
   "name": "python3"
  },
  "language_info": {
   "codemirror_mode": {
    "name": "ipython",
    "version": 3
   },
   "file_extension": ".py",
   "mimetype": "text/x-python",
   "name": "python",
   "nbconvert_exporter": "python",
   "pygments_lexer": "ipython3",
   "version": "3.9.17"
  },
  "orig_nbformat": 4
 },
 "nbformat": 4,
 "nbformat_minor": 2
}
